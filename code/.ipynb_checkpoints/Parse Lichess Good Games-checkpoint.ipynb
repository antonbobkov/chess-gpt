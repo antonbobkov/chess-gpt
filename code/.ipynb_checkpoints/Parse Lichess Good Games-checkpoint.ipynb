{
 "cells": [
  {
   "cell_type": "code",
   "execution_count": 5,
   "id": "47b5eba8",
   "metadata": {},
   "outputs": [],
   "source": [
    "import chess\n",
    "import chess.pgn\n",
    "import chess_encode\n",
    "import chess_decode\n",
    "\n",
    "\n",
    "import time\n",
    "\n",
    "filepath = \"..\\\\data_pgn\\\\lichess_db_standard_rated_2014-07.pgn\"\n",
    "intermediate_filepath = \"..\\\\data_v2\\\\intermediate_non_bullet.txt\""
   ]
  },
  {
   "cell_type": "code",
   "execution_count": 6,
   "id": "7664fca5",
   "metadata": {},
   "outputs": [
    {
     "name": "stdout",
     "output_type": "stream",
     "text": [
      "Rated Blitz game\n",
      "1518\n",
      "1567\n"
     ]
    }
   ],
   "source": [
    "\n",
    "pgn = open(filepath)\n",
    "\n",
    "first_game = chess.pgn.read_game(pgn)\n",
    "second_game = chess.pgn.read_game(pgn)\n",
    "\n",
    "print(first_game.headers[\"Event\"])\n",
    "print(int(first_game.headers[\"BlackElo\"]))\n",
    "print(int(first_game.headers[\"WhiteElo\"]))\n"
   ]
  },
  {
   "cell_type": "code",
   "execution_count": 7,
   "id": "5508f85f",
   "metadata": {},
   "outputs": [],
   "source": [
    "def encode_game_with_check(game):\n",
    "    encoder = chess_encode.EncoderBoard()\n",
    "    decoder = chess_decode.DecoderBoard()\n",
    "    moves = []\n",
    "\n",
    "    for move in game.mainline_moves():\n",
    "        enc_move = encoder.EncodeMove(move)\n",
    "        if enc_move == None:\n",
    "            break\n",
    "        moves.append(enc_move)\n",
    "        dec_move = decoder.DecodeMove(enc_move)\n",
    "        assert move == dec_move\n",
    "    return moves"
   ]
  },
  {
   "cell_type": "code",
   "execution_count": null,
   "id": "7baf1a40",
   "metadata": {},
   "outputs": [],
   "source": [
    "pgn = open(filepath)\n",
    "\n",
    "first_game = chess.pgn.read_game(pgn)\n",
    "\n",
    "encode_game_with_check(first_game)\n"
   ]
  },
  {
   "cell_type": "code",
   "execution_count": 9,
   "id": "3eba31fc",
   "metadata": {},
   "outputs": [],
   "source": [
    "def try_parse_int(s, val):\n",
    "  try:\n",
    "    return int(s)\n",
    "  except ValueError:\n",
    "    return val\n",
    "\n",
    "def clean_elo_str(elo):\n",
    "    return try_parse_int(elo.replace('?', ''), 0)"
   ]
  },
  {
   "cell_type": "code",
   "execution_count": 13,
   "id": "6a6d62b2",
   "metadata": {},
   "outputs": [
    {
     "name": "stdout",
     "output_type": "stream",
     "text": [
      "0 0.0 sec\n",
      "total 0.0 sec\n",
      "defaultdict(<class 'int'>, {})\n",
      "defaultdict(<class 'int'>, {})\n",
      "\n",
      "5000 12.05 sec\n",
      "total 12.05 sec\n",
      "defaultdict(<class 'int'>, {'Rated Blitz': 1805, 'Rated Classical': 1055, 'Rated Correspondence': 18})\n",
      "defaultdict(<class 'int'>, {15: 1064, 13: 565, 14: 790, 18: 479, 19: 230, 12: 431, 16: 948, 11: 172, 17: 859, 21: 28, 20: 96, 8: 4, 9: 18, 7: 4, 10: 58, 23: 2, 24: 4, 25: 4})\n",
      "\n"
     ]
    }
   ],
   "source": [
    "from collections import defaultdict\n",
    "\n",
    "event = defaultdict(int)\n",
    "elos = defaultdict(int)\n",
    "\n",
    "seconds = time.time()\n",
    "total = time.time()\n",
    "\n",
    "token_set = set()\n",
    "\n",
    "with open(filepath) as pgn:\n",
    "    with open(intermediate_filepath, \"w\") as out_file:\n",
    "        for i in range(1000):\n",
    "            if i % 5000 == 0:        \n",
    "                print (i, round(time.time() - seconds, 2), \"sec\")\n",
    "                print (\"total\", round(time.time() - total, 2), \"sec\")\n",
    "                seconds = time.time()\n",
    "                print (event)\n",
    "                print (elos)\n",
    "                print (\"\")\n",
    "\n",
    "            game = chess.pgn.read_game(pgn)\n",
    "            ev = \" \".join(game.headers[\"Event\"].split()[:2])\n",
    "            if 'Bullet' in ev:\n",
    "                continue \n",
    "            el1 = clean_elo_str(game.headers[\"BlackElo\"]) // 100\n",
    "            el2 = clean_elo_str(game.headers[\"WhiteElo\"]) // 100\n",
    "\n",
    "#             if el1 < 18 or el2 < 18:\n",
    "#                 continue\n",
    "\n",
    "            move_seq = encode_game_with_check(game)\n",
    "            token_set.update(move_seq)\n",
    "            out_file.write(\" \".join(move_seq) + \"\\n\")\n",
    "\n",
    "            event[ev] += 1\n",
    "            elos[el1] += 1\n",
    "            elos[el2] += 1\n"
   ]
  },
  {
   "cell_type": "code",
   "execution_count": null,
   "id": "0667d9ce",
   "metadata": {},
   "outputs": [],
   "source": []
  },
  {
   "cell_type": "code",
   "execution_count": null,
   "id": "911da730",
   "metadata": {},
   "outputs": [],
   "source": []
  }
 ],
 "metadata": {
  "kernelspec": {
   "display_name": "Python 3 (ipykernel)",
   "language": "python",
   "name": "python3"
  },
  "language_info": {
   "codemirror_mode": {
    "name": "ipython",
    "version": 3
   },
   "file_extension": ".py",
   "mimetype": "text/x-python",
   "name": "python",
   "nbconvert_exporter": "python",
   "pygments_lexer": "ipython3",
   "version": "3.9.13"
  }
 },
 "nbformat": 4,
 "nbformat_minor": 5
}
