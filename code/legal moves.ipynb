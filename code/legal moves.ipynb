{
 "cells": [
  {
   "cell_type": "code",
   "execution_count": 7,
   "id": "ac3b14eb",
   "metadata": {},
   "outputs": [],
   "source": [
    "import chess\n",
    "import chess_encode\n",
    "import chess_decode\n",
    "\n",
    "import random\n"
   ]
  },
  {
   "cell_type": "code",
   "execution_count": 15,
   "id": "1f3b4983",
   "metadata": {},
   "outputs": [
    {
     "name": "stdout",
     "output_type": "stream",
     "text": [
      "Pawn:g2:TwoPush\n",
      "Pawn:c7:TwoPush\n",
      "Pawn:f2:TwoPush\n",
      "Pawn:c5:Push\n",
      "N1:-1:2\n",
      "N1:1:-2\n",
      "K:1:1\n",
      "R1:1:0\n",
      "K:-1:1\n",
      "N1:2:-1\n",
      "Pawn:c2:Push\n",
      "N1:1:-2\n",
      "Pawn:b2:TwoPush\n",
      "Q:b6\n",
      "K:1:0\n",
      "N2:1:-2\n",
      "K:1:0\n",
      "Q:c7\n",
      "Pawn:d2:Push\n",
      "Pawn:b7:TwoPush\n",
      "Pawn:e2:TwoPush\n",
      "Pawn:f7:TwoPush\n",
      "K:1:1\n",
      "BL:a6\n",
      "N1:2:1\n",
      "Pawn:d7:TwoPush\n",
      "K:-1:-1\n",
      "R1:2:0\n",
      "Pawn:e4:Push\n",
      "R1:-2:0\n",
      "Pawn:a2:TwoPush\n",
      "K:1:-1\n",
      "Q:d2\n",
      "Pawn:e7:Push\n",
      "R1:1:0\n",
      "Pawn:g7:Push\n",
      "Q:e3\n",
      "Q:c5\n",
      "Pawn:b4:CaptureRight\n",
      "BL:b7\n",
      "N1:-1:2\n",
      "R1:3:0\n",
      "Pawn:d3:Push\n",
      "Pawn:g6:Push\n",
      "Pawn:a4:CaptureRight\n",
      "BL:c6\n",
      "R1:0:2\n",
      "R1:-3:0\n",
      "BL:h3\n",
      "N2:-1:-2\n",
      "1. g4 c5 2. f4 c4 3. Na3 Nc6 4. Kf2 Rb8 5. Ke3 Ne5 6. c3 Nf3 7. b4 Qb6+ 8. Kxf3 Nh6 9. Kg3 Qc7 10. d3 b5 11. e4 f5 12. Kh4 Ba6 13. Nxc4 d5 14. Kg3 Rd8 15. e5 Rb8 16. a4 Kf7 17. Qd2 e6 18. Rb1 g6 19. Qe3 Qc5 20. bxc5 Bb7 21. Nb6 Re8 22. d4 g5 23. axb5 Bc6 24. Rb3 Rb8 25. Bh3 Nxg4\n"
     ]
    }
   ],
   "source": [
    "class Game:\n",
    "    def __init__(self):\n",
    "        self.board = chess.Board()\n",
    "        self.enc = chess_encode.EncoderBoard()\n",
    "        self.dec = chess_decode.DecoderBoard()\n",
    "\n",
    "    def encoded_legal_moves(self):\n",
    "        return [self.enc.EncodeMove(mv, make_move=False) for mv in self.board.legal_moves]\n",
    "    \n",
    "    def make_move(self, enc_move):\n",
    "        move = self.dec.DecodeMove(enc_move)\n",
    "        self.enc.EncodeMove(move, make_move=True)\n",
    "        self.board.push(move)\n",
    "        return move\n",
    "        \n",
    "\n",
    "g = Game()\n",
    "m = []\n",
    "for i in range(50):\n",
    "    mv = random.choice(g.encoded_legal_moves())\n",
    "    print (mv)\n",
    "    m.append(g.make_move(mv))\n",
    "print (chess.Board().variation_san(m))"
   ]
  },
  {
   "cell_type": "code",
   "execution_count": null,
   "id": "c581a6e0",
   "metadata": {},
   "outputs": [],
   "source": []
  },
  {
   "cell_type": "code",
   "execution_count": null,
   "id": "7e3cd2e3",
   "metadata": {},
   "outputs": [],
   "source": []
  }
 ],
 "metadata": {
  "kernelspec": {
   "display_name": "Python 3 (ipykernel)",
   "language": "python",
   "name": "python3"
  },
  "language_info": {
   "codemirror_mode": {
    "name": "ipython",
    "version": 3
   },
   "file_extension": ".py",
   "mimetype": "text/x-python",
   "name": "python",
   "nbconvert_exporter": "python",
   "pygments_lexer": "ipython3",
   "version": "3.9.13"
  }
 },
 "nbformat": 4,
 "nbformat_minor": 5
}
