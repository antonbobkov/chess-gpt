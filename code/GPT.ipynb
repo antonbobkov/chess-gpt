{
 "cells": [
  {
   "cell_type": "code",
   "execution_count": 1,
   "id": "ae85cc0e",
   "metadata": {},
   "outputs": [],
   "source": [
    "import chess_game_tracker"
   ]
  },
  {
   "cell_type": "code",
   "execution_count": 2,
   "id": "0cc966b0",
   "metadata": {},
   "outputs": [
    {
     "name": "stdout",
     "output_type": "stream",
     "text": [
      "cuda\n"
     ]
    }
   ],
   "source": [
    "import time\n",
    "\n",
    "import torch\n",
    "import torch.nn as nn\n",
    "from torch.nn import functional as F\n",
    "\n",
    "tokens_filepath = \"..\\\\data_v2\\\\tokens.txt\"\n",
    "intermediate_filepath = \"..\\\\data_v2\\\\intermediate_non_bullet.txt\"\n",
    "model_filepath = \"..\\\\data_v2\\\\model_2014_non_bullet\"\n",
    "\n",
    "\n",
    "\n",
    "# hyperparameters\n",
    "batch_size = 64 # how many independent sequences will we process in parallel?\n",
    "block_size = 64 # what is the maximum context length for predictions?\n",
    "eval_interval = 400\n",
    "learning_rate = 1e-3\n",
    "device = 'cuda' if torch.cuda.is_available() else 'cpu'\n",
    "eval_iters = 100\n",
    "n_embd = 800\n",
    "n_head = 8\n",
    "n_layer = 8\n",
    "dropout = 0.0\n",
    "# ------------\n",
    "\n",
    "torch.manual_seed(1337)\n",
    "\n",
    "print (device)"
   ]
  },
  {
   "cell_type": "code",
   "execution_count": 3,
   "id": "3eb764c7",
   "metadata": {},
   "outputs": [
    {
     "name": "stdout",
     "output_type": "stream",
     "text": [
      "598\n"
     ]
    }
   ],
   "source": [
    "with open(tokens_filepath, \"r\") as f:\n",
    "    tokens = f.read().splitlines()\n",
    "    \n",
    "tokens = [\"ZERO\", \"START\"] + tokens\n",
    "\n",
    "token_to_int = {}\n",
    "int_to_token = {}\n",
    "\n",
    "for i, token in enumerate(tokens):\n",
    "    token_to_int[token] = i\n",
    "    int_to_token[i] = token\n",
    "    \n",
    "def encode(lst):\n",
    "    return [token_to_int[token] for token in lst]\n",
    "def decode(lst):\n",
    "    return [int_to_token[i] for i in lst]\n",
    "\n",
    "vocab_size = len(tokens)\n",
    "print (vocab_size)"
   ]
  },
  {
   "cell_type": "code",
   "execution_count": 4,
   "id": "1caac390",
   "metadata": {},
   "outputs": [],
   "source": [
    "encoded_games = []\n",
    "with open(intermediate_filepath, \"r\") as f:\n",
    "    for line in f:\n",
    "        game = encode([\"START\"] + line.split())\n",
    "        if len(game) >= block_size + 1:\n",
    "            encoded_games.append(game)"
   ]
  },
  {
   "cell_type": "code",
   "execution_count": 5,
   "id": "fde69cbe",
   "metadata": {},
   "outputs": [
    {
     "name": "stdout",
     "output_type": "stream",
     "text": [
      "33206\n",
      "143\n",
      "73\n",
      "[1, 335, 311, 148, 151, 314, 350, 374, 330, 355, 239, 378, 404, 361, 346, 379, 21, 394, 49, 63, 270, 448, 428, 23, 589, 591, 391, 397, 401, 19, 384, 59, 585, 597, 589, 589, 249, 158, 437, 457, 239, 175, 24, 461, 104, 468, 469, 464, 464, 252, 141, 82, 131, 74, 141, 294, 151, 237, 166, 222, 97, 239, 291, 318, 303, 15, 172, 8, 104, 222, 113, 216, 485, 4, 44, 7, 51, 66, 483, 16, 120, 233, 127, 526, 118, 12, 531, 531, 127, 364, 268, 25, 119, 29, 284, 296, 265, 223, 48, 206, 281, 196, 182, 206, 165, 212, 148, 273, 110, 75, 101, 33, 92, 29, 43, 33, 91, 29, 100, 33, 109, 29, 118, 33, 119, 29, 128, 74, 119, 75]\n",
      "65\n"
     ]
    }
   ],
   "source": [
    "print (len(encoded_games))\n",
    "print (len(encoded_games[100]))\n",
    "print (len(encoded_games[200]))\n",
    "print (encoded_games[300])\n",
    "print (min([len(g) for g in encoded_games]))"
   ]
  },
  {
   "cell_type": "code",
   "execution_count": 6,
   "id": "535f6463",
   "metadata": {},
   "outputs": [],
   "source": [
    "n = int(0.9*len(encoded_games)) # first 90% will be train, rest val\n",
    "train_data = encoded_games[:n]\n",
    "val_data = encoded_games[n:]"
   ]
  },
  {
   "cell_type": "code",
   "execution_count": 7,
   "id": "a6cd15ec",
   "metadata": {},
   "outputs": [],
   "source": [
    "def get_block_from_game(game, block_sz, rnd, offset):\n",
    "    i = rnd % (len(game) - block_sz)\n",
    "    i = i - (i % 2)\n",
    "    assert i >= 0\n",
    "    t = game[i + offset : i + block_sz + offset]\n",
    "    if len(t) != block_sz:\n",
    "        print (game)\n",
    "        print (t)\n",
    "        print (i, offset, block_sz)\n",
    "        assert False\n",
    "    return torch.tensor(t, dtype=torch.long)\n",
    "\n",
    "# data loading\n",
    "def get_batch(split):\n",
    "    # generate a small batch of data of inputs x and targets y\n",
    "    data = train_data if split == 'train' else val_data\n",
    "    ix = torch.randint(len(data)-1, (batch_size, 2))\n",
    "    x = torch.stack([get_block_from_game(encoded_games[i[0]], block_size, i[1], 0) for i in ix])\n",
    "    y = torch.stack([get_block_from_game(encoded_games[i[0]], block_size, i[1], 1) for i in ix])\n",
    "    x, y = x.to(device), y.to(device)\n",
    "    return x, y"
   ]
  },
  {
   "cell_type": "code",
   "execution_count": 8,
   "id": "4025f4c6",
   "metadata": {},
   "outputs": [],
   "source": [
    "@torch.no_grad()\n",
    "def estimate_loss():\n",
    "    out = {}\n",
    "    model.eval()\n",
    "    for split in ['train', 'val']:\n",
    "        losses = torch.zeros(eval_iters)\n",
    "        for k in range(eval_iters):\n",
    "            X, Y = get_batch(split)\n",
    "            logits, loss = model(X, Y)\n",
    "            losses[k] = loss.item()\n",
    "        out[split] = losses.mean()\n",
    "    model.train()\n",
    "    return out"
   ]
  },
  {
   "cell_type": "code",
   "execution_count": 9,
   "id": "f0ad3f30",
   "metadata": {},
   "outputs": [],
   "source": [
    "class Head(nn.Module):\n",
    "    \"\"\" one head of self-attention \"\"\"\n",
    "\n",
    "    def __init__(self, head_size):\n",
    "        super().__init__()\n",
    "        self.key = nn.Linear(n_embd, head_size, bias=False)\n",
    "        self.query = nn.Linear(n_embd, head_size, bias=False)\n",
    "        self.value = nn.Linear(n_embd, head_size, bias=False)\n",
    "        self.register_buffer('tril', torch.tril(torch.ones(block_size, block_size)))\n",
    "\n",
    "        self.dropout = nn.Dropout(dropout)\n",
    "\n",
    "    def forward(self, x):\n",
    "        B,T,C = x.shape\n",
    "        k = self.key(x)   # (B,T,C)\n",
    "        q = self.query(x) # (B,T,C)\n",
    "        # compute attention scores (\"affinities\")\n",
    "        wei = q @ k.transpose(-2,-1) * C**-0.5 # (B, T, C) @ (B, C, T) -> (B, T, T)\n",
    "        wei = wei.masked_fill(self.tril[:T, :T] == 0, float('-inf')) # (B, T, T)\n",
    "        wei = F.softmax(wei, dim=-1) # (B, T, T)\n",
    "        wei = self.dropout(wei)\n",
    "        # perform the weighted aggregation of the values\n",
    "        v = self.value(x) # (B,T,C)\n",
    "        out = wei @ v # (B, T, T) @ (B, T, C) -> (B, T, C)\n",
    "        return out\n",
    "\n",
    "class MultiHeadAttention(nn.Module):\n",
    "    \"\"\" multiple heads of self-attention in parallel \"\"\"\n",
    "\n",
    "    def __init__(self, num_heads, head_size):\n",
    "        super().__init__()\n",
    "        self.heads = nn.ModuleList([Head(head_size) for _ in range(num_heads)])\n",
    "        self.proj = nn.Linear(n_embd, n_embd)\n",
    "        self.dropout = nn.Dropout(dropout)\n",
    "\n",
    "    def forward(self, x):\n",
    "        out = torch.cat([h(x) for h in self.heads], dim=-1)\n",
    "        out = self.dropout(self.proj(out))\n",
    "        return out\n",
    "\n",
    "class FeedFoward(nn.Module):\n",
    "    \"\"\" a simple linear layer followed by a non-linearity \"\"\"\n",
    "\n",
    "    def __init__(self, n_embd):\n",
    "        super().__init__()\n",
    "        self.net = nn.Sequential(\n",
    "            nn.Linear(n_embd, 4 * n_embd),\n",
    "            nn.ReLU(),\n",
    "            nn.Linear(4 * n_embd, n_embd),\n",
    "            nn.Dropout(dropout),\n",
    "        )\n",
    "\n",
    "    def forward(self, x):\n",
    "        return self.net(x)\n",
    "\n",
    "class Block(nn.Module):\n",
    "    \"\"\" Transformer block: communication followed by computation \"\"\"\n",
    "\n",
    "    def __init__(self, n_embd, n_head):\n",
    "        # n_embd: embedding dimension, n_head: the number of heads we'd like\n",
    "        super().__init__()\n",
    "        head_size = n_embd // n_head\n",
    "        self.sa = MultiHeadAttention(n_head, head_size)\n",
    "        self.ffwd = FeedFoward(n_embd)\n",
    "        self.ln1 = nn.LayerNorm(n_embd)\n",
    "        self.ln2 = nn.LayerNorm(n_embd)\n",
    "\n",
    "    def forward(self, x):\n",
    "        x = x + self.sa(self.ln1(x))\n",
    "        x = x + self.ffwd(self.ln2(x))\n",
    "        return x\n",
    "\n",
    "def create_alternating_tensor(length):\n",
    "    tensor = torch.zeros(length, dtype=torch.long, device=device)\n",
    "    tensor[::2] = 1\n",
    "    return tensor\n",
    "    \n",
    "class GPTModel(nn.Module):\n",
    "    def __init__(self):\n",
    "        super().__init__()\n",
    "        # each token directly reads off the logits for the next token from a lookup table\n",
    "        self.token_embedding_table = nn.Embedding(vocab_size, n_embd)\n",
    "        self.position_embedding_table = nn.Embedding(block_size, n_embd)\n",
    "        self.whose_turn_embedding_table = nn.Embedding(2, n_embd)\n",
    "        \n",
    "        self.blocks = nn.Sequential(*[Block(n_embd, n_head=n_head) for _ in range(n_layer)])\n",
    "        self.ln_f = nn.LayerNorm(n_embd) # final layer norm\n",
    "        self.lm_head = nn.Linear(n_embd, vocab_size)\n",
    "\n",
    "    def forward(self, idx, targets=None):\n",
    "        B, T = idx.shape\n",
    "\n",
    "        # idx and targets are both (B,T) tensor of integers\n",
    "        tok_emb = self.token_embedding_table(idx) # (B,T,C)\n",
    "        pos_emb = self.position_embedding_table(torch.arange(T, device=device)) # (T,C)\n",
    "        trn_emb = self.whose_turn_embedding_table(create_alternating_tensor(T)) # (T,C)\n",
    "        x = tok_emb + pos_emb + trn_emb # (B,T,C)\n",
    "        x = self.blocks(x) # (B,T,C)\n",
    "        x = self.ln_f(x) # (B,T,C)\n",
    "        logits = self.lm_head(x) # (B,T,vocab_size)\n",
    "\n",
    "        if targets is None:\n",
    "            loss = None\n",
    "        else:\n",
    "            B, T, C = logits.shape\n",
    "            logits = logits.view(B*T, C)\n",
    "            targets = targets.view(B*T)\n",
    "            loss = F.cross_entropy(logits, targets)\n",
    "\n",
    "        return logits, loss"
   ]
  },
  {
   "cell_type": "code",
   "execution_count": 10,
   "id": "8ea76c7f",
   "metadata": {},
   "outputs": [
    {
     "name": "stdout",
     "output_type": "stream",
     "text": [
      "tensor([[101, 100, 101, 100],\n",
      "        [201, 200, 201, 200]], device='cuda:0')\n"
     ]
    }
   ],
   "source": [
    "ara = torch.arange(4, device=device)\n",
    "xxx = torch.tensor([100, 100, 100, 100], dtype=torch.long, device=device)\n",
    "yyy = torch.tensor([200, 200, 200, 200], dtype=torch.long, device=device)\n",
    "zzz = torch.stack([xxx, yyy])\n",
    "alt = create_alternating_tensor(4)\n",
    "print (zzz + alt)"
   ]
  },
  {
   "cell_type": "code",
   "execution_count": 11,
   "id": "58cce38e",
   "metadata": {},
   "outputs": [],
   "source": [
    "def generate(model, idx, max_new_tokens, game):\n",
    "    # idx is (B, T) array of indices in the current context\n",
    "    for _ in range(max_new_tokens):\n",
    "        assert len(idx.size()) == 2\n",
    "        (B, T) = idx.size()\n",
    "        assert B == 1\n",
    "        if T > block_size:\n",
    "            idx_cond = idx[:, 2:]\n",
    "        else:\n",
    "            idx_cond = idx\n",
    "        \n",
    "        (B, T) = idx_cond.size()\n",
    "        assert T <= block_size\n",
    "        \n",
    "        # get the predictions\n",
    "        logits, loss = model(idx_cond)  # (B, T, C)\n",
    "        # focus only on the last time step\n",
    "        logits = logits[:, -1, :] # becomes (B, C)\n",
    "\n",
    "        legal_moves = encode(game.encoded_legal_moves())\n",
    "#         print (legal_moves)\n",
    "        if len(legal_moves) == 0:\n",
    "            return idx\n",
    "\n",
    "        for i in range(vocab_size):\n",
    "            if i not in legal_moves:\n",
    "                logits[0, i] = -100000\n",
    "        \n",
    "        # apply softmax to get probabilities\n",
    "        probs = F.softmax(logits, dim=-1) # (B, C)\n",
    "        # sample from the distribution\n",
    "        idx_next = torch.multinomial(probs, num_samples=1) # (B, 1)\n",
    "        \n",
    "#         print (idx_next,  idx_next.tolist()[0], \"hi\")\n",
    "        assert idx_next.tolist()[0][0] in legal_moves\n",
    "        \n",
    "        game.make_move(decode(idx_next.tolist()[0])[0])\n",
    "        \n",
    "        # append sampled index to the running sequence\n",
    "        idx = torch.cat((idx, idx_next), dim=1) # (B, T+1)\n",
    "    return idx"
   ]
  },
  {
   "cell_type": "code",
   "execution_count": 12,
   "id": "b578fc9a",
   "metadata": {},
   "outputs": [
    {
     "name": "stdout",
     "output_type": "stream",
     "text": [
      "62.515798 M parameters\n"
     ]
    }
   ],
   "source": [
    "model = GPTModel()\n",
    "m = model.to(device)\n",
    "# print the number of parameters in the model\n",
    "print(sum(p.numel() for p in m.parameters())/1e6, 'M parameters')\n",
    "\n"
   ]
  },
  {
   "cell_type": "code",
   "execution_count": 13,
   "id": "353901f1",
   "metadata": {},
   "outputs": [],
   "source": [
    "# create a PyTorch optimizer\n",
    "optimizer = torch.optim.AdamW(model.parameters(), lr=learning_rate)\n"
   ]
  },
  {
   "cell_type": "code",
   "execution_count": null,
   "id": "eed08723",
   "metadata": {},
   "outputs": [
    {
     "name": "stdout",
     "output_type": "stream",
     "text": [
      "step 10\n",
      "1.22 sec per train step\n",
      "step 20\n",
      "1.18 sec per train step\n",
      "step 30\n",
      "1.19 sec per train step\n",
      "step 40\n",
      "1.19 sec per train step\n",
      "step 50\n",
      "1.19 sec per train step\n",
      "step 60\n",
      "1.19 sec per train step\n",
      "step 70\n",
      "1.19 sec per train step\n",
      "step 80\n",
      "1.19 sec per train step\n",
      "step 90\n",
      "1.19 sec per train step\n",
      "step 100\n",
      "1.19 sec per train step\n",
      "step 110\n",
      "1.19 sec per train step\n",
      "step 120\n",
      "1.19 sec per train step\n",
      "step 130\n",
      "1.19 sec per train step\n",
      "step 140\n",
      "1.19 sec per train step\n",
      "step 150\n",
      "1.19 sec per train step\n",
      "step 160\n",
      "1.19 sec per train step\n",
      "step 170\n",
      "1.19 sec per train step\n",
      "step 180\n",
      "1.2 sec per train step\n",
      "step 190\n",
      "1.19 sec per train step\n",
      "step 200\n",
      "1.19 sec per train step\n",
      "step 210\n",
      "1.19 sec per train step\n",
      "step 220\n",
      "1.19 sec per train step\n"
     ]
    }
   ],
   "source": [
    "train_time = time.time()\n",
    "train_print = 10\n",
    "\n",
    "for iter in range(10000000 + 1):\n",
    "    # every once in a while evaluate the loss on train and val sets\n",
    "    if iter > 0 and iter % train_print == 0:\n",
    "        print (\"step\", iter)\n",
    "        print (round((time.time() - train_time) / train_print, 2), \"sec per train step\")\n",
    "        train_time = time.time()\n",
    "    if iter > 0 and iter % eval_interval == 0:\n",
    "        print (\"estimating loss...\")\n",
    "        eval_time = time.time()\n",
    "        losses = estimate_loss()\n",
    "        print (round((time.time() - eval_time) / eval_iters, 2), \"sec per eval step\")\n",
    "        print(f\"step {iter}: train loss {losses['train']:.4f}, val loss {losses['val']:.4f}\")\n",
    "        train_time = time.time()\n",
    "    if iter > 0 and iter % (eval_interval * 10) == 0:\n",
    "        print(\"saving\")\n",
    "        torch.save(m, model_filepath + \".pt\")\n",
    "        torch.save(m.state_dict(), model_filepath + \"_state.pt\")\n",
    "        train_time = time.time()\n",
    "        \n",
    "    # sample a batch of data\n",
    "    xb, yb = get_batch('train')\n",
    "\n",
    "    # evaluate the loss\n",
    "    logits, loss = model(xb, yb)\n",
    "    optimizer.zero_grad(set_to_none=True)\n",
    "    loss.backward()\n",
    "    optimizer.step()"
   ]
  },
  {
   "cell_type": "code",
   "execution_count": null,
   "id": "38ab9cfc",
   "metadata": {},
   "outputs": [],
   "source": [
    "losses = estimate_loss()\n",
    "print(f\"step {iter}: train loss {losses['train']:.4f}, val loss {losses['val']:.4f}\")"
   ]
  },
  {
   "cell_type": "code",
   "execution_count": null,
   "id": "bd112f8b",
   "metadata": {},
   "outputs": [],
   "source": [
    "game = chess_game_tracker.Game()\n",
    "context = torch.zeros((1, 1), dtype=torch.long, device=device)\n",
    "context[0][0] = 1\n",
    "print(decode(generate(m, idx = context, max_new_tokens=10, game=game)[0].tolist()))\n",
    "print (game.get_game_pgn())"
   ]
  },
  {
   "cell_type": "code",
   "execution_count": null,
   "id": "bd32776b",
   "metadata": {},
   "outputs": [],
   "source": [
    "torch.save(m, model_filepath + \".pt\")\n",
    "torch.save(m.state_dict(), model_filepath + \"_state.pt\")"
   ]
  },
  {
   "cell_type": "code",
   "execution_count": null,
   "id": "142dc488",
   "metadata": {},
   "outputs": [],
   "source": []
  }
 ],
 "metadata": {
  "kernelspec": {
   "display_name": "Python 3 (ipykernel)",
   "language": "python",
   "name": "python3"
  },
  "language_info": {
   "codemirror_mode": {
    "name": "ipython",
    "version": 3
   },
   "file_extension": ".py",
   "mimetype": "text/x-python",
   "name": "python",
   "nbconvert_exporter": "python",
   "pygments_lexer": "ipython3",
   "version": "3.9.13"
  }
 },
 "nbformat": 4,
 "nbformat_minor": 5
}
